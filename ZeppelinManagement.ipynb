{
 "cells": [
  {
   "cell_type": "code",
   "execution_count": 1,
   "metadata": {},
   "outputs": [],
   "source": [
    "import gdal, osr\n",
    "from skimage.graph import route_through_array\n",
    "import numpy as np\n"
   ]
  },
  {
   "cell_type": "code",
   "execution_count": null,
   "metadata": {},
   "outputs": [],
   "source": [
    "def raster2array(rasterfn):\n",
    "    raster = gdal.Open(rasterfn)\n",
    "    band = raster.GetRasterBand(1)\n",
    "    array = band.ReadAsArray()\n",
    "    return array  \n",
    "\n",
    "def coord2pixelOffset(rasterfn,x,y):\n",
    "    raster = gdal.Open(rasterfn)\n",
    "    geotransform = raster.GetGeoTransform()\n",
    "    originX = geotransform[0]\n",
    "    originY = geotransform[3] \n",
    "    pixelWidth = geotransform[1] \n",
    "    pixelHeight = geotransform[5]\n",
    "    xOffset = int((x - originX)/pixelWidth)\n",
    "    yOffset = int((y - originY)/pixelHeight)\n",
    "    return xOffset,yOffset\n"
   ]
  },
  {
   "cell_type": "code",
   "execution_count": null,
   "metadata": {},
   "outputs": [],
   "source": [
    "def createPath(CostSurfacefn,costSurfaceArray,startCoord,stopCoord):   \n",
    "\n",
    "    # coordinates to array index\n",
    "    startCoordX = startCoord[0]\n",
    "    startCoordY = startCoord[1]\n",
    "    startIndexX,startIndexY = coord2pixelOffset(CostSurfacefn,startCoordX,startCoordY)\n",
    "\n",
    "    stopCoordX = stopCoord[0]\n",
    "    stopCoordY = stopCoord[1]\n",
    "    stopIndexX,stopIndexY = coord2pixelOffset(CostSurfacefn,stopCoordX,stopCoordY)\n",
    "\n",
    "    # create path\n",
    "    indices, weight = route_through_array(costSurfaceArray, (startIndexY,startIndexX), (stopIndexY,stopIndexX),geometric=True,fully_connected=True)\n",
    "    indices = np.array(indices).T\n",
    "    path = np.zeros_like(costSurfaceArray)\n",
    "    path[indices[0], indices[1]] = 1\n",
    "    return path"
   ]
  },
  {
   "cell_type": "code",
   "execution_count": null,
   "metadata": {},
   "outputs": [],
   "source": [
    "def array2raster(newRasterfn,rasterfn,array):\n",
    "    raster = gdal.Open(rasterfn)\n",
    "    geotransform = raster.GetGeoTransform()\n",
    "    originX = geotransform[0]\n",
    "    originY = geotransform[3] \n",
    "    pixelWidth = geotransform[1] \n",
    "    pixelHeight = geotransform[5]\n",
    "    cols = array.shape[1]\n",
    "    rows = array.shape[0]\n",
    "\n",
    "    driver = gdal.GetDriverByName('GTiff')\n",
    "    outRaster = driver.Create(newRasterfn, cols, rows, gdal.GDT_Byte)\n",
    "    outRaster.SetGeoTransform((originX, pixelWidth, 0, originY, 0, pixelHeight))\n",
    "    outband = outRaster.GetRasterBand(1)\n",
    "    outband.WriteArray(array)\n",
    "    outRasterSRS = osr.SpatialReference()\n",
    "    outRasterSRS.ImportFromWkt(raster.GetProjectionRef())\n",
    "    outRaster.SetProjection(outRasterSRS.ExportToWkt())\n",
    "    outband.FlushCache() "
   ]
  },
  {
   "cell_type": "code",
   "execution_count": null,
   "metadata": {},
   "outputs": [],
   "source": [
    "def main(CostSurfacefn,outputPathfn,startCoord,stopCoord):\n",
    "\n",
    "    costSurfaceArray = raster2array(CostSurfacefn) # creates array from cost surface raster\n",
    "\n",
    "    pathArray = createPath(CostSurfacefn,costSurfaceArray,startCoord,stopCoord) # creates path array\n",
    "\n",
    "    array2raster(outputPathfn,CostSurfacefn,pathArray) # converts path array to raster\n",
    "\n",
    "\n",
    "if __name__ == \"__main__\":\n",
    "    CostSurfacefn = 'CostSurface.tif'\n",
    "    startCoord = (345387.871,1267855.277)\n",
    "    stopCoord = (345479.425,1267799.626)\n",
    "    outputPathfn = 'Path.tif'\n",
    "    main(CostSurfacefn,outputPathfn,startCoord,stopCoord)"
   ]
  },
  {
   "cell_type": "code",
   "execution_count": null,
   "metadata": {},
   "outputs": [],
   "source": [
    "costSurfaceArray = raster2array(CostSurfacefn)"
   ]
  },
  {
   "cell_type": "code",
   "execution_count": null,
   "metadata": {},
   "outputs": [],
   "source": [
    "costSurfaceArray.shape"
   ]
  },
  {
   "cell_type": "code",
   "execution_count": null,
   "metadata": {},
   "outputs": [],
   "source": [
    "startCoord=(1,3)\n",
    "stopCoord=(100,5)\n",
    "pathArray=createPath(CostSurfacefn,costSurfaceArray,startCoord,stopCoord)"
   ]
  },
  {
   "cell_type": "code",
   "execution_count": null,
   "metadata": {},
   "outputs": [],
   "source": [
    "costSurfaceArray=np.array([[5,3,1],[6,2,7],[9,1,5]]) \n",
    "costSurfaceArray"
   ]
  },
  {
   "cell_type": "markdown",
   "metadata": {},
   "source": [
    "costSurfaceArray=np.array([[5,3,1],[6,2,7],[9,1,5])\n",
    "costSurfaceArray"
   ]
  },
  {
   "cell_type": "code",
   "execution_count": null,
   "metadata": {},
   "outputs": [],
   "source": [
    "costSurfaceArray=np.random.rand(548,421)\n",
    "startIndexX=0\n",
    "startIndexY=0\n",
    "stopIndexX=costSurfaceArray.shape[1]-1\n",
    "stopIndexY=costSurfaceArray.shape[0]-1\n",
    "indices, weight = route_through_array(costSurfaceArray, (startIndexY,startIndexX), (stopIndexY,stopIndexX),geometric=True,fully_connected=True)\n"
   ]
  },
  {
   "cell_type": "code",
   "execution_count": null,
   "metadata": {},
   "outputs": [],
   "source": []
  },
  {
   "cell_type": "code",
   "execution_count": null,
   "metadata": {},
   "outputs": [],
   "source": [
    "weight"
   ]
  },
  {
   "cell_type": "code",
   "execution_count": null,
   "metadata": {},
   "outputs": [],
   "source": [
    "import matplotlib.pyplot as plt\n",
    "plt.imshow(costSurfaceArray, cmap='hot', interpolation='nearest')\n",
    "#plt.plot([[0,0],[1,1]])\n",
    "for item in indices:\n",
    "    plt.plot(item[1],item[0], 'bo')\n",
    "plt.show()"
   ]
  },
  {
   "cell_type": "code",
   "execution_count": null,
   "metadata": {},
   "outputs": [],
   "source": [
    "list(zip(indices,indices[:-1]))"
   ]
  },
  {
   "cell_type": "code",
   "execution_count": null,
   "metadata": {},
   "outputs": [],
   "source": [
    "[[x[0], x[1]] for x in list(zip(indices,indices[1:len(indices)]))]\n",
    "#indices"
   ]
  },
  {
   "cell_type": "code",
   "execution_count": 29,
   "metadata": {},
   "outputs": [
    {
     "name": "stderr",
     "output_type": "stream",
     "text": [
      "Exception ignored in: <bound method Env.__del__ of <TimeLimit<ZeppelinEnv<zeppelin-v2>>>>\n",
      "Traceback (most recent call last):\n",
      "  File \"/usr/local/lib/python3.5/dist-packages/gym/core.py\", line 203, in __del__\n",
      "    self.close()\n",
      "  File \"/usr/local/lib/python3.5/dist-packages/gym/core.py\", line 166, in close\n",
      "    self._close()\n",
      "  File \"/usr/local/lib/python3.5/dist-packages/gym/core.py\", line 290, in _close\n",
      "    return self.env.close()\n",
      "  File \"/usr/local/lib/python3.5/dist-packages/gym/core.py\", line 164, in close\n",
      "    self.render(close=True)\n",
      "  File \"/usr/local/lib/python3.5/dist-packages/gym/core.py\", line 150, in render\n",
      "    return self._render(mode=mode, close=close)\n",
      "TypeError: _render() got an unexpected keyword argument 'mode'\n",
      "Exception ignored in: <bound method Env.__del__ of <__main__.ZeppelinEnv object at 0x7fc75e345dd8>>\n",
      "Traceback (most recent call last):\n",
      "  File \"/usr/local/lib/python3.5/dist-packages/gym/core.py\", line 203, in __del__\n",
      "    self.close()\n",
      "  File \"/usr/local/lib/python3.5/dist-packages/gym/core.py\", line 164, in close\n",
      "    self.render(close=True)\n",
      "  File \"/usr/local/lib/python3.5/dist-packages/gym/core.py\", line 150, in render\n",
      "    return self._render(mode=mode, close=close)\n",
      "TypeError: _render() got an unexpected keyword argument 'mode'\n",
      "Exception ignored in: <bound method Env.__del__ of <TimeLimit<ZeppelinEnv<zeppelin-v2>>>>\n",
      "Traceback (most recent call last):\n",
      "  File \"/usr/local/lib/python3.5/dist-packages/gym/core.py\", line 203, in __del__\n",
      "    self.close()\n",
      "  File \"/usr/local/lib/python3.5/dist-packages/gym/core.py\", line 166, in close\n",
      "    self._close()\n",
      "  File \"/usr/local/lib/python3.5/dist-packages/gym/core.py\", line 290, in _close\n",
      "    return self.env.close()\n",
      "  File \"/usr/local/lib/python3.5/dist-packages/gym/core.py\", line 164, in close\n",
      "    self.render(close=True)\n",
      "  File \"/usr/local/lib/python3.5/dist-packages/gym/core.py\", line 150, in render\n",
      "    return self._render(mode=mode, close=close)\n",
      "TypeError: _render() got an unexpected keyword argument 'mode'\n",
      "Exception ignored in: <bound method Env.__del__ of <__main__.ZeppelinEnv object at 0x7fc75e4f16a0>>\n",
      "Traceback (most recent call last):\n",
      "  File \"/usr/local/lib/python3.5/dist-packages/gym/core.py\", line 203, in __del__\n",
      "    self.close()\n",
      "  File \"/usr/local/lib/python3.5/dist-packages/gym/core.py\", line 164, in close\n",
      "    self.render(close=True)\n",
      "  File \"/usr/local/lib/python3.5/dist-packages/gym/core.py\", line 150, in render\n",
      "    return self._render(mode=mode, close=close)\n",
      "TypeError: _render() got an unexpected keyword argument 'mode'\n",
      "Exception ignored in: <bound method Env.__del__ of <TimeLimit<ZeppelinEnv<zeppelin-v2>>>>\n",
      "Traceback (most recent call last):\n",
      "  File \"/usr/local/lib/python3.5/dist-packages/gym/core.py\", line 203, in __del__\n",
      "    self.close()\n",
      "  File \"/usr/local/lib/python3.5/dist-packages/gym/core.py\", line 166, in close\n",
      "    self._close()\n",
      "  File \"/usr/local/lib/python3.5/dist-packages/gym/core.py\", line 290, in _close\n",
      "    return self.env.close()\n",
      "  File \"/usr/local/lib/python3.5/dist-packages/gym/core.py\", line 164, in close\n",
      "    self.render(close=True)\n",
      "  File \"/usr/local/lib/python3.5/dist-packages/gym/core.py\", line 150, in render\n",
      "    return self._render(mode=mode, close=close)\n",
      "TypeError: _render() got an unexpected keyword argument 'close'\n",
      "Exception ignored in: <bound method Env.__del__ of <__main__.ZeppelinEnv object at 0x7fc75e50a240>>\n",
      "Traceback (most recent call last):\n",
      "  File \"/usr/local/lib/python3.5/dist-packages/gym/core.py\", line 203, in __del__\n",
      "    self.close()\n",
      "  File \"/usr/local/lib/python3.5/dist-packages/gym/core.py\", line 164, in close\n",
      "    self.render(close=True)\n",
      "  File \"/usr/local/lib/python3.5/dist-packages/gym/core.py\", line 150, in render\n",
      "    return self._render(mode=mode, close=close)\n",
      "TypeError: _render() got an unexpected keyword argument 'close'\n",
      "Exception ignored in: <bound method Env.__del__ of <TimeLimit<ZeppelinEnv<zeppelin-v2>>>>\n",
      "Traceback (most recent call last):\n",
      "  File \"/usr/local/lib/python3.5/dist-packages/gym/core.py\", line 203, in __del__\n",
      "    self.close()\n",
      "  File \"/usr/local/lib/python3.5/dist-packages/gym/core.py\", line 166, in close\n",
      "    self._close()\n",
      "  File \"/usr/local/lib/python3.5/dist-packages/gym/core.py\", line 290, in _close\n",
      "    return self.env.close()\n",
      "  File \"/usr/local/lib/python3.5/dist-packages/gym/core.py\", line 164, in close\n",
      "    self.render(close=True)\n",
      "  File \"/usr/local/lib/python3.5/dist-packages/gym/core.py\", line 150, in render\n",
      "    return self._render(mode=mode, close=close)\n",
      "  File \"<ipython-input-24-7312172e3cb7>\", line 27, in _render\n",
      "AttributeError: module 'matplotlib' has no attribute 'figure'\n",
      "Exception ignored in: <bound method Env.__del__ of <__main__.ZeppelinEnv object at 0x7fc75e4e8048>>\n",
      "Traceback (most recent call last):\n",
      "  File \"/usr/local/lib/python3.5/dist-packages/gym/core.py\", line 203, in __del__\n",
      "    self.close()\n",
      "  File \"/usr/local/lib/python3.5/dist-packages/gym/core.py\", line 164, in close\n",
      "    self.render(close=True)\n",
      "  File \"/usr/local/lib/python3.5/dist-packages/gym/core.py\", line 150, in render\n",
      "    return self._render(mode=mode, close=close)\n",
      "  File \"<ipython-input-24-7312172e3cb7>\", line 27, in _render\n",
      "AttributeError: module 'matplotlib' has no attribute 'figure'\n"
     ]
    }
   ],
   "source": [
    "import h5py\n",
    "import numpy as np\n",
    "import pandas as pd\n",
    "import matplotlib.pyplot as plt\n",
    "import os\n",
    "citydata = pd.read_csv('CityData.csv')\n"
   ]
  },
  {
   "cell_type": "code",
   "execution_count": null,
   "metadata": {},
   "outputs": [],
   "source": [
    "h5f = h5py.File('METdata.h5', 'r')\n",
    "train = h5f['train'][:]\n",
    "test = h5f['test'][:]\n",
    "h5f.close()"
   ]
  },
  {
   "cell_type": "code",
   "execution_count": null,
   "metadata": {},
   "outputs": [],
   "source": [
    "import numpy\n",
    "x=numpy.loadtxt(open(\"test.out\", \"rb\"), delimiter=\",\")\n",
    "x.shape"
   ]
  },
  {
   "cell_type": "code",
   "execution_count": null,
   "metadata": {},
   "outputs": [],
   "source": [
    "import numpy\n",
    "x=numpy.loadtxt(open(\"test.out\", \"rb\"), delimiter=\",\")\n",
    "x=x.astype(int)\n",
    "#x[x>=15]=255\n",
    "#x[x<15]=1\n",
    "x.shape"
   ]
  },
  {
   "cell_type": "code",
   "execution_count": null,
   "metadata": {},
   "outputs": [],
   "source": [
    "from skimage.graph import MCP_Geometric\n",
    "index=2\n",
    "start_x=citydata['xid'][0]\n",
    "start_y=citydata['yid'][0]\n",
    "end_x=citydata['xid'][index]\n",
    "end_y=citydata['yid'][index]\n",
    "mcp_class=MCP_Geometric\n",
    "m = mcp_class(x, fully_connected=False)\n",
    "costs, traceback_array = m.find_costs([(start_x,start_y)], [(end_x,end_y)])\n",
    "traceback_array.shape\n",
    "costs.min()"
   ]
  },
  {
   "cell_type": "code",
   "execution_count": null,
   "metadata": {},
   "outputs": [],
   "source": [
    "import matplotlib.pyplot as plt\n",
    "indices, weight = route_through_array(x, (start_y,start_x), (end_y,end_x),geometric=True,fully_connected=False)\n",
    "fig=plt.figure(figsize=(20,10))\n",
    "cax=plt.imshow(x.T, cmap='hot', interpolation='nearest')\n",
    "fig.colorbar(cax, ticks=[-1, 0, 1], orientation='horizontal')\n",
    "for item in indices:\n",
    "    plt.plot(item[1],item[0], 'bo')\n",
    "plt.show()"
   ]
  },
  {
   "cell_type": "code",
   "execution_count": null,
   "metadata": {},
   "outputs": [],
   "source": [
    "\n",
    "len(x[x>15])"
   ]
  },
  {
   "cell_type": "code",
   "execution_count": null,
   "metadata": {},
   "outputs": [],
   "source": [
    "end_x"
   ]
  },
  {
   "cell_type": "code",
   "execution_count": null,
   "metadata": {},
   "outputs": [],
   "source": [
    "import numpy as np\n",
    "import matplotlib.pyplot as plt\n",
    "\n",
    "class Maze(object):\n",
    "\tdef __init__(self, grid_size, start=[], goal = []):\n",
    "\t\tself.grid_size = grid_size\n",
    "\t\tself.num_actions = 4  \n",
    "\t\t# four actions in each state -- up, right, bottom, left\n",
    "\t\tself.free_states = free_states\n",
    "\t\tself.start = start\n",
    "\t\tself.goal = goal\n",
    "#\t\tself.maze = np.zeros((grid_size,grid_size))\n",
    "\t\tself.maze = np.random.random_integers(0,20,(grid_size,grid_size))\n",
    "\t\tself.free_states = []\n",
    "#\t\tfor i in self.free_states:\n",
    "#\t\t\tself.maze[i[0]][i[1]] = 1\n",
    "\n",
    "\tdef reset(self):\n",
    "\t\t# reset the environment\n",
    "#\t\tself.start_index = np.random.randint(0,len(self.free_states))\n",
    "\t\tself.curr_state = self.start\n",
    "\n",
    "\tdef state(self):\n",
    "\t\treturn self.curr_state\n",
    "\n",
    "\tdef draw(self, path = \"\"):\n",
    "\t\t# draw the maze configiration\n",
    "\t\tself.grid = self.maze\n",
    "        #np.zeros((self.grid_size, self.grid_size))\n",
    "#\t\tfor i in self.maze:\n",
    "#\t\t\tself.grid[i[1]][i[0]] = 0.5\n",
    "\t\tself.grid[self.goal[1]][self.goal[0]] = 1\n",
    "\t\tplt.figure(0)\n",
    "\t\tplt.clf()\n",
    "\t\tplt.imshow(self.grid, interpolation='none', cmap='gray')\n",
    "\t\tplt.savefig(path + \"maze.png\")\n",
    "\n",
    "\tdef act(self, action):\n",
    "\t\tif(action == -1):\n",
    "\t\t\tself.next_state = self.curr_state\n",
    "\t\telif(action == 0):\n",
    "\t\t\tself.next_state = [self.curr_state[0]-1,self.curr_state[1]]\n",
    "\t\telif(action == 1):\n",
    "\t\t\tself.next_state = [self.curr_state[0]+1,self.curr_state[1]]\n",
    "\t\telif(action == 2):\n",
    "\t\t\tself.next_state = [self.curr_state[0],self.curr_state[1]+1]\n",
    "\t\telif(action == 3):\n",
    "\t\t\tself.next_state = [self.curr_state[0],self.curr_state[1]-1]\n",
    "\n",
    "#\t\tif ((self.next_state in self.free_states) or (self.next_state == self.goal)):\n",
    "\t\tself.curr_state = self.next_state\n",
    "\t\tself.reward = int(self.maze[self.curr_state[0],self.curr_state[1]] < 15)\n",
    "#\t\telse:\n",
    "#\t\t\tself.next_state = self.curr_state\n",
    "#\t\t\tself.reward = 0\n",
    "\n",
    "#\t\tif(self.next_state == self.goal):\n",
    "#\t\t\tself.reward = 1\n",
    "#\t\t\tself.game_over = True\n",
    "#\t\telse:\n",
    "\t\tself.game_over = self.reward == 0\n",
    "\n",
    "\t\treturn self.next_state, self.reward, self.game_over"
   ]
  },
  {
   "cell_type": "code",
   "execution_count": null,
   "metadata": {},
   "outputs": [],
   "source": [
    "env = Maze(15, (1,1), (14,14))\n",
    "env.draw(\"task/\")\n",
    "env.reset()\n",
    "env.act(2)\n",
    "#env.maze"
   ]
  },
  {
   "cell_type": "code",
   "execution_count": null,
   "metadata": {},
   "outputs": [],
   "source": [
    "Q = [[[0,0,0,0] for i in range(grid_size)] for j in range(grid_size)]\n",
    "alpha = 0.6\n",
    "discount = 0.9\n",
    "for i in range(1000):\n",
    "    action = np.random.randint(0, env.num_actions)\n",
    "    curr_state = env.curr_state\n",
    "    next_state, reward, game_over = env.act(action)\n",
    "# Q-learning update\n",
    "    x = alpha*(reward + discount*max(Q[next_state[0]][next_state[1]]) - Q[curr_state[0]][curr_state[1]][action])\n",
    "    Q[curr_state[0]][curr_state[1]][action] = Q[curr_state[0]][curr_state[1]][action] + x\n",
    "#    print(env.act(action))\n",
    "    \n"
   ]
  },
  {
   "cell_type": "code",
   "execution_count": null,
   "metadata": {},
   "outputs": [],
   "source": [
    "plot_policy(Q,1)"
   ]
  },
  {
   "cell_type": "code",
   "execution_count": null,
   "metadata": {},
   "outputs": [],
   "source": [
    "#from maze import Maze\n",
    "from copy import deepcopy\n",
    "import numpy as np\n",
    "import matplotlib.pyplot as plt\n",
    "\n",
    "# FLAG_policy = True\n",
    "FLAG_policy = False\n",
    "# flag to plot polciy after each episode\n",
    "\n",
    "def plot_policy(Q, num):\n",
    "\tplt.figure(1)\n",
    "\tplt.clf()\n",
    "\tgrid_size = len(Q)\n",
    "\tplot =  [[max(Q[i][j]) for i in range(grid_size)] for j in range(grid_size)]\n",
    "\tplt.imshow(plot, interpolation='none', cmap='gray')\n",
    "\tif num == 0:\n",
    "\t\tplt.savefig(\"policies/final_policy.png\")\n",
    "\telse:\n",
    "\t\tplt.savefig(\"policies/policy_%d.png\" % (num))\n",
    "\n",
    "def change(Q1, Q2, env):\n",
    "\tthres = 0.0 \n",
    "\tfor i in env.free_states:\n",
    "\t\tprev_val = sum(Q1[i[0]][i[1]])\n",
    "\t\tnew_val = sum(Q2[i[0]][i[1]])\n",
    "\t\tif(abs(prev_val - new_val) > thres):\n",
    "\t\t\tchange = 1\n",
    "\t\t\tbreak\n",
    "\t\telse:\n",
    "\t\t\tchange = 0\n",
    "\treturn change\n",
    "\n",
    "def learnTask(env, Q, epsilon = 0.3, alpha = 0.6, discount = 0.9):\n",
    "\tgrid_size = len(Q)\n",
    "\tnum_actions = env.num_actions\n",
    "\n",
    "\t## Learning source task\n",
    "\n",
    "\ttot_step = 0 # to count total no. of steps\n",
    "\tepisode = 0 # to count total no. of episodes\n",
    "\tnot_change_count = 0 # to check if Q function is changed or not\n",
    "\tchange_no = 5 # required number of episodes for which Q function should be unchanged before stopping\n",
    "\n",
    "\twhile (True):\n",
    "\t\tenv.reset()\n",
    "\t\tgame_over = False\n",
    "\t\tmax_step = 100  # max number of steps for an episode, after max_iter steps, the episode ends\n",
    "\t\tstep = 0\n",
    "\t\tepisode += 1\n",
    "\t\tQ2 = deepcopy(Q)\n",
    "\t\twhile not (game_over or step > max_step):\n",
    "\t\t\tstep += 1\n",
    "\t\t\tcurr_state = env.state()\n",
    "\t\t\tif np.random.rand() <= epsilon:  # epsilon-greedy policy\n",
    "\t\t\t\taction = np.random.randint(0, num_actions)\n",
    "\t\t\telse:\n",
    "\t\t\t\tif(max(Q[curr_state[0]][curr_state[1]]) == min(Q[curr_state[0]][curr_state[1]])):\n",
    "\t\t\t\t\taction = -1\n",
    "\t\t\t\t\t# if Q[] function is unable to select action, then no action taken\n",
    "\t\t\t\telse:\n",
    "\t\t\t\t\taction = np.argmax(Q[curr_state[0]][curr_state[1]])\n",
    "\t\t\t\t\t# best action from Q table\n",
    "\t\t\tnext_state, reward, game_over = env.act(action)\n",
    "\t\t\t# Q-learning update\n",
    "\t\t\tQ[curr_state[0]][curr_state[1]][action] = Q[curr_state[0]][curr_state[1]][action] + alpha*(reward + discount*max(Q[next_state[0]][next_state[1]]) - Q[curr_state[0]][curr_state[1]][action])\n",
    "\t\ttot_step += step\n",
    "\t\tif (step > max_step):\n",
    "\t\t\tnot_change_count = 0\n",
    "\t\telif not change(Q, Q2, env):\n",
    "\t\t\tnot_change_count += 1\n",
    "\t\t\tif(not_change_count == change_no):\n",
    "\t\t\t\tbreak\n",
    "\t\telse:\n",
    "\t\t\tnot_change_count = 0\n",
    "\n",
    "\t\tif FLAG_policy == True:\n",
    "\t\t\tif (episode-1)%50 == 0:\n",
    "\t\t\t\tplot_policy(Q, episode)\n",
    "\tprint(\"Total no. of episodes: %d\" %episode)\n",
    "\tprint(\"Total no. of steps: %d\" %tot_step)\n",
    "\n",
    "if __name__ == \"__main__\":\n",
    "\n",
    "\tprint(\"Initializing\")\n",
    "\n",
    "\tgrid_size = 11\n",
    "\t# gridsize defines the area of the maze (gridsize X gridsize)\n",
    "\t# number of states in the maze are (gridsize X gridsize)\n",
    "\n",
    "\tfree_states = [[ 1,7 ] , [ 0,7 ] , [ 0,6 ] , [ 0,5 ] , [ 0,4 ] , [ 0,3 ] , [ 1,3 ] , [ 2,1 ] , [ 2,2 ] , [ 2,3 ] , [ 2,4 ] , [ 3,8 ] , [ 3,7 ] , [ 3,6 ] , [ 3,5 ] , [ 3,4 ] , [ 4,4 ] , [ 0,10 ] , [ 1,10 ] , [ 2,10 ] , [ 3,10 ] , [ 4,10 ] , [ 5,10 ] , [ 5,9 ] , [ 5,8 ] , [ 5,7 ] , [ 5,6 ] , [ 5,5 ] , [ 5,4 ] , [ 6,4 ] , [ 7,4 ] , [ 8,4 ] , [ 7,10 ] , [ 8,10 ] , [ 9,10 ] , [ 10,10 ] , [ 10,9 ] , [ 10,8 ] , [ 10,7 ] , [ 10,6 ] , [ 8,5 ] , [ 9,6 ] , [ 8,6 ] , [ 8,7 ]]\n",
    "\t# free states define the set of states which are accessible to the agent.\n",
    "\n",
    "\tgoal = [8,8]\n",
    "\t# goal defines the state which is the goal position of the maze task\n",
    "\n",
    "\tQ = [[[0,0,0,0] for i in range(grid_size)] for j in range(grid_size)]\n",
    "\t# Q table for storing value corresponing to each action-state pair\n",
    "\n",
    "\tprint(\"Creating Maze Environment\")\n",
    "\tenv = Maze(grid_size, free_states, goal)\n",
    "\t# creating an instance of maze class\n",
    "\n",
    "\tprint(\"Drawing the Maze Task\")\n",
    "\tenv.draw(\"task/\")\n",
    "\t# plot the maze with the specified free_states and goal positions\n",
    "\t# in task folder\n",
    "\n",
    "\tprint(\"Learning the policy\")\n",
    "\tlearnTask(env, Q)\n",
    "\t#learn the policy using Q-learning\n",
    "\n",
    "\tprint(\"Plotting the learned policy\")\n",
    "\tplot_policy(Q, 0)\n",
    "\t# plot the action-value function \n",
    "\n",
    "\tprint(\"Done! checkout task and policies folders\")"
   ]
  },
  {
   "cell_type": "code",
   "execution_count": null,
   "metadata": {},
   "outputs": [],
   "source": [
    "import os\n",
    "cwd = os.getcwd()\n",
    "cwd"
   ]
  },
  {
   "cell_type": "code",
   "execution_count": null,
   "metadata": {},
   "outputs": [],
   "source": [
    "free_states = [[ 1,7 ] , [ 0,7 ] , [ 0,6 ] , [ 0,5 ] , [ 0,4 ] , [ 0,3 ] , [ 1,3 ] , [ 2,1 ] , [ 2,2 ] , [ 2,3 ] , [ 2,4 ] , [ 3,8 ] , [ 3,7 ] , [ 3,6 ] , [ 3,5 ] , [ 3,4 ] , [ 4,4 ] , [ 0,10 ] , [ 1,10 ] , [ 2,10 ] , [ 3,10 ] , [ 4,10 ] , [ 5,10 ] , [ 5,9 ] , [ 5,8 ] , [ 5,7 ] , [ 5,6 ] , [ 5,5 ] , [ 5,4 ] , [ 6,4 ] , [ 7,4 ] , [ 8,4 ] , [ 7,10 ] , [ 8,10 ] , [ 9,10 ] , [ 10,10 ] , [ 10,9 ] , [ 10,8 ] , [ 10,7 ] , [ 10,6 ] , [ 8,5 ] , [ 9,6 ] , [ 8,6 ] , [ 8,7 ]]"
   ]
  },
  {
   "cell_type": "code",
   "execution_count": null,
   "metadata": {},
   "outputs": [],
   "source": [
    "len(free_states[0])"
   ]
  },
  {
   "cell_type": "code",
   "execution_count": 2,
   "metadata": {},
   "outputs": [],
   "source": []
  },
  {
   "cell_type": "code",
   "execution_count": 26,
   "metadata": {},
   "outputs": [],
   "source": [
    "import gym\n",
    "import numpy as np\n",
    "import matplotlib as plt\n",
    "from gym.envs.registration import registry, register, make, spec\n",
    "from gym import spaces\n",
    "def manhattan_distance(start, end):\n",
    "    sx, sy = start\n",
    "    ex, ey = end\n",
    "    return abs(ex - sx) + abs(ey - sy)\n",
    "class ZeppelinEnv(gym.Env):\n",
    "    metadata = {\n",
    "        'render.modes': ['human', 'rgb_array'],\n",
    "        'video.frames_per_second' : 50\n",
    "    }\n",
    "    def __init__(self):\n",
    "        self.gravity = 9.8\n",
    "        self.action_space = spaces.Discrete(5)\n",
    "        width = 4\n",
    "        height = 3\n",
    "        start_pos = (0,0)\n",
    "        end_pos = (width, height)\n",
    "        self.grid = np.random.random_integers(0,25,(width,height))\n",
    "        self.goal = end_pos\n",
    "        self.state = start_pos\n",
    "    def _render(self,mode,close):\n",
    "        #self.grid[self.goal[1]][self.goal[0]] = 1\n",
    "#        plt.figure(0)\n",
    "        #plt.clf()\n",
    "        plt.imshow(self.grid, interpolation='none', cmap='gray')\n",
    "#        plt.imshow(costSurfaceArray, cmap='hot', interpolation='nearest')\n",
    "        #plt.savefig(path + \"maze.png\")\n",
    "\n",
    "    def _step(self, action):\n",
    "        reward = 1\n",
    "        state = self.state\n",
    "        if action == 0:\n",
    "            next_state = state\n",
    "        elif action == 1:# up\n",
    "            next_state = (state[0],state[1]+1)\n",
    "        elif action == 2:#left\n",
    "            next_state = (state[0]-1,state[1])\n",
    "        elif action == 3:#right\n",
    "            next_state = (state[0]+1,state[1])\n",
    "        elif action == 4:# down\n",
    "            next_state = (state[0],state[1]-1)\n",
    "        wind_speed = self.grid[next_state[0],next_state[1]]\n",
    "        if next_state[0] >= 0 and next_state[1] >= 0 and wind_speed < 15:\n",
    "            self.state = next_state\n",
    "        distance = manhattan_distance(state, self.goal)\n",
    "        reward = distance * int(wind_speed<15)\n",
    "        print(\"distance: \" + str(distance) + \", speed: \" + str(wind_speed))\n",
    "        done = False\n",
    "        return self.state, reward, done, {}\n",
    "    def _reset(self):\n",
    "        print(\"do nothing\")\n"
   ]
  },
  {
   "cell_type": "code",
   "execution_count": 27,
   "metadata": {},
   "outputs": [
    {
     "name": "stdout",
     "output_type": "stream",
     "text": [
      "do nothing\n",
      "distance: 7, speed: 11\n",
      "distance: 7, speed: 11\n",
      "distance: 7, speed: 11\n",
      "distance: 7, speed: 5\n",
      "distance: 6, speed: 5\n",
      "distance: 6, speed: 0\n",
      "distance: 5, speed: 8\n",
      "distance: 4, speed: 0\n",
      "distance: 5, speed: 8\n",
      "distance: 4, speed: 6\n"
     ]
    },
    {
     "name": "stderr",
     "output_type": "stream",
     "text": [
      "/usr/local/lib/python3.5/dist-packages/ipykernel_launcher.py:22: DeprecationWarning: This function is deprecated. Please call randint(0, 25 + 1) instead\n"
     ]
    },
    {
     "ename": "AttributeError",
     "evalue": "module 'matplotlib' has no attribute 'imshow'",
     "output_type": "error",
     "traceback": [
      "\u001b[0;31m---------------------------------------------------------------------------\u001b[0m",
      "\u001b[0;31mAttributeError\u001b[0m                            Traceback (most recent call last)",
      "\u001b[0;32m<ipython-input-27-97fa174ee560>\u001b[0m in \u001b[0;36m<module>\u001b[0;34m()\u001b[0m\n\u001b[1;32m      5\u001b[0m     \u001b[0mobservation\u001b[0m\u001b[0;34m,\u001b[0m \u001b[0mreward\u001b[0m\u001b[0;34m,\u001b[0m \u001b[0mdone\u001b[0m\u001b[0;34m,\u001b[0m \u001b[0minfo\u001b[0m \u001b[0;34m=\u001b[0m \u001b[0menv\u001b[0m\u001b[0;34m.\u001b[0m\u001b[0mstep\u001b[0m\u001b[0;34m(\u001b[0m\u001b[0maction\u001b[0m\u001b[0;34m)\u001b[0m\u001b[0;34m\u001b[0m\u001b[0m\n\u001b[1;32m      6\u001b[0m \u001b[0;31m#    print((observation, reward, done, info))\u001b[0m\u001b[0;34m\u001b[0m\u001b[0;34m\u001b[0m\u001b[0m\n\u001b[0;32m----> 7\u001b[0;31m \u001b[0menv\u001b[0m\u001b[0;34m.\u001b[0m\u001b[0mrender\u001b[0m\u001b[0;34m(\u001b[0m\u001b[0;34m)\u001b[0m\u001b[0;34m\u001b[0m\u001b[0m\n\u001b[0m",
      "\u001b[0;32m/usr/local/lib/python3.5/dist-packages/gym/core.py\u001b[0m in \u001b[0;36mrender\u001b[0;34m(self, mode, close)\u001b[0m\n\u001b[1;32m    148\u001b[0m             \u001b[0;32melif\u001b[0m \u001b[0mmode\u001b[0m \u001b[0;32mnot\u001b[0m \u001b[0;32min\u001b[0m \u001b[0mmodes\u001b[0m\u001b[0;34m:\u001b[0m\u001b[0;34m\u001b[0m\u001b[0m\n\u001b[1;32m    149\u001b[0m                 \u001b[0;32mraise\u001b[0m \u001b[0merror\u001b[0m\u001b[0;34m.\u001b[0m\u001b[0mUnsupportedMode\u001b[0m\u001b[0;34m(\u001b[0m\u001b[0;34m'Unsupported rendering mode: {}. (Supported modes for {}: {})'\u001b[0m\u001b[0;34m.\u001b[0m\u001b[0mformat\u001b[0m\u001b[0;34m(\u001b[0m\u001b[0mmode\u001b[0m\u001b[0;34m,\u001b[0m \u001b[0mself\u001b[0m\u001b[0;34m,\u001b[0m \u001b[0mmodes\u001b[0m\u001b[0;34m)\u001b[0m\u001b[0;34m)\u001b[0m\u001b[0;34m\u001b[0m\u001b[0m\n\u001b[0;32m--> 150\u001b[0;31m         \u001b[0;32mreturn\u001b[0m \u001b[0mself\u001b[0m\u001b[0;34m.\u001b[0m\u001b[0m_render\u001b[0m\u001b[0;34m(\u001b[0m\u001b[0mmode\u001b[0m\u001b[0;34m=\u001b[0m\u001b[0mmode\u001b[0m\u001b[0;34m,\u001b[0m \u001b[0mclose\u001b[0m\u001b[0;34m=\u001b[0m\u001b[0mclose\u001b[0m\u001b[0;34m)\u001b[0m\u001b[0;34m\u001b[0m\u001b[0m\n\u001b[0m\u001b[1;32m    151\u001b[0m \u001b[0;34m\u001b[0m\u001b[0m\n\u001b[1;32m    152\u001b[0m     \u001b[0;32mdef\u001b[0m \u001b[0mclose\u001b[0m\u001b[0;34m(\u001b[0m\u001b[0mself\u001b[0m\u001b[0;34m)\u001b[0m\u001b[0;34m:\u001b[0m\u001b[0;34m\u001b[0m\u001b[0m\n",
      "\u001b[0;32m/usr/local/lib/python3.5/dist-packages/gym/core.py\u001b[0m in \u001b[0;36m_render\u001b[0;34m(self, mode, close)\u001b[0m\n\u001b[1;32m    284\u001b[0m \u001b[0;34m\u001b[0m\u001b[0m\n\u001b[1;32m    285\u001b[0m     \u001b[0;32mdef\u001b[0m \u001b[0m_render\u001b[0m\u001b[0;34m(\u001b[0m\u001b[0mself\u001b[0m\u001b[0;34m,\u001b[0m \u001b[0mmode\u001b[0m\u001b[0;34m=\u001b[0m\u001b[0;34m'human'\u001b[0m\u001b[0;34m,\u001b[0m \u001b[0mclose\u001b[0m\u001b[0;34m=\u001b[0m\u001b[0;32mFalse\u001b[0m\u001b[0;34m)\u001b[0m\u001b[0;34m:\u001b[0m\u001b[0;34m\u001b[0m\u001b[0m\n\u001b[0;32m--> 286\u001b[0;31m         \u001b[0;32mreturn\u001b[0m \u001b[0mself\u001b[0m\u001b[0;34m.\u001b[0m\u001b[0menv\u001b[0m\u001b[0;34m.\u001b[0m\u001b[0mrender\u001b[0m\u001b[0;34m(\u001b[0m\u001b[0mmode\u001b[0m\u001b[0;34m,\u001b[0m \u001b[0mclose\u001b[0m\u001b[0;34m)\u001b[0m\u001b[0;34m\u001b[0m\u001b[0m\n\u001b[0m\u001b[1;32m    287\u001b[0m \u001b[0;34m\u001b[0m\u001b[0m\n\u001b[1;32m    288\u001b[0m     \u001b[0;32mdef\u001b[0m \u001b[0m_close\u001b[0m\u001b[0;34m(\u001b[0m\u001b[0mself\u001b[0m\u001b[0;34m)\u001b[0m\u001b[0;34m:\u001b[0m\u001b[0;34m\u001b[0m\u001b[0m\n",
      "\u001b[0;32m/usr/local/lib/python3.5/dist-packages/gym/core.py\u001b[0m in \u001b[0;36mrender\u001b[0;34m(self, mode, close)\u001b[0m\n\u001b[1;32m    148\u001b[0m             \u001b[0;32melif\u001b[0m \u001b[0mmode\u001b[0m \u001b[0;32mnot\u001b[0m \u001b[0;32min\u001b[0m \u001b[0mmodes\u001b[0m\u001b[0;34m:\u001b[0m\u001b[0;34m\u001b[0m\u001b[0m\n\u001b[1;32m    149\u001b[0m                 \u001b[0;32mraise\u001b[0m \u001b[0merror\u001b[0m\u001b[0;34m.\u001b[0m\u001b[0mUnsupportedMode\u001b[0m\u001b[0;34m(\u001b[0m\u001b[0;34m'Unsupported rendering mode: {}. (Supported modes for {}: {})'\u001b[0m\u001b[0;34m.\u001b[0m\u001b[0mformat\u001b[0m\u001b[0;34m(\u001b[0m\u001b[0mmode\u001b[0m\u001b[0;34m,\u001b[0m \u001b[0mself\u001b[0m\u001b[0;34m,\u001b[0m \u001b[0mmodes\u001b[0m\u001b[0;34m)\u001b[0m\u001b[0;34m)\u001b[0m\u001b[0;34m\u001b[0m\u001b[0m\n\u001b[0;32m--> 150\u001b[0;31m         \u001b[0;32mreturn\u001b[0m \u001b[0mself\u001b[0m\u001b[0;34m.\u001b[0m\u001b[0m_render\u001b[0m\u001b[0;34m(\u001b[0m\u001b[0mmode\u001b[0m\u001b[0;34m=\u001b[0m\u001b[0mmode\u001b[0m\u001b[0;34m,\u001b[0m \u001b[0mclose\u001b[0m\u001b[0;34m=\u001b[0m\u001b[0mclose\u001b[0m\u001b[0;34m)\u001b[0m\u001b[0;34m\u001b[0m\u001b[0m\n\u001b[0m\u001b[1;32m    151\u001b[0m \u001b[0;34m\u001b[0m\u001b[0m\n\u001b[1;32m    152\u001b[0m     \u001b[0;32mdef\u001b[0m \u001b[0mclose\u001b[0m\u001b[0;34m(\u001b[0m\u001b[0mself\u001b[0m\u001b[0;34m)\u001b[0m\u001b[0;34m:\u001b[0m\u001b[0;34m\u001b[0m\u001b[0m\n",
      "\u001b[0;32m<ipython-input-26-f08b5d4570b1>\u001b[0m in \u001b[0;36m_render\u001b[0;34m(self, mode, close)\u001b[0m\n\u001b[1;32m     27\u001b[0m \u001b[0;31m#        plt.figure(0)\u001b[0m\u001b[0;34m\u001b[0m\u001b[0;34m\u001b[0m\u001b[0m\n\u001b[1;32m     28\u001b[0m         \u001b[0;31m#plt.clf()\u001b[0m\u001b[0;34m\u001b[0m\u001b[0;34m\u001b[0m\u001b[0m\n\u001b[0;32m---> 29\u001b[0;31m         \u001b[0mplt\u001b[0m\u001b[0;34m.\u001b[0m\u001b[0mimshow\u001b[0m\u001b[0;34m(\u001b[0m\u001b[0mself\u001b[0m\u001b[0;34m.\u001b[0m\u001b[0mgrid\u001b[0m\u001b[0;34m,\u001b[0m \u001b[0minterpolation\u001b[0m\u001b[0;34m=\u001b[0m\u001b[0;34m'none'\u001b[0m\u001b[0;34m,\u001b[0m \u001b[0mcmap\u001b[0m\u001b[0;34m=\u001b[0m\u001b[0;34m'gray'\u001b[0m\u001b[0;34m)\u001b[0m\u001b[0;34m\u001b[0m\u001b[0m\n\u001b[0m\u001b[1;32m     30\u001b[0m \u001b[0;31m#        plt.imshow(costSurfaceArray, cmap='hot', interpolation='nearest')\u001b[0m\u001b[0;34m\u001b[0m\u001b[0;34m\u001b[0m\u001b[0m\n\u001b[1;32m     31\u001b[0m         \u001b[0;31m#plt.savefig(path + \"maze.png\")\u001b[0m\u001b[0;34m\u001b[0m\u001b[0;34m\u001b[0m\u001b[0m\n",
      "\u001b[0;31mAttributeError\u001b[0m: module 'matplotlib' has no attribute 'imshow'"
     ]
    }
   ],
   "source": [
    "env = gym.make('zeppelin-v2')\n",
    "observation = env.reset()\n",
    "for i in range(10):\n",
    "    action = env.action_space.sample()\n",
    "    observation, reward, done, info = env.step(action)\n",
    "#    print((observation, reward, done, info))\n",
    "env.render()"
   ]
  },
  {
   "cell_type": "code",
   "execution_count": 28,
   "metadata": {},
   "outputs": [
    {
     "ename": "AttributeError",
     "evalue": "module 'matplotlib' has no attribute 'imshow'",
     "output_type": "error",
     "traceback": [
      "\u001b[0;31m---------------------------------------------------------------------------\u001b[0m",
      "\u001b[0;31mAttributeError\u001b[0m                            Traceback (most recent call last)",
      "\u001b[0;32m<ipython-input-28-01ffb940ec84>\u001b[0m in \u001b[0;36m<module>\u001b[0;34m()\u001b[0m\n\u001b[1;32m      1\u001b[0m \u001b[0;32mimport\u001b[0m \u001b[0mmatplotlib\u001b[0m \u001b[0;32mas\u001b[0m \u001b[0mplt\u001b[0m\u001b[0;34m\u001b[0m\u001b[0m\n\u001b[0;32m----> 2\u001b[0;31m \u001b[0mplt\u001b[0m\u001b[0;34m.\u001b[0m\u001b[0mimshow\u001b[0m\u001b[0;34m\u001b[0m\u001b[0m\n\u001b[0m",
      "\u001b[0;31mAttributeError\u001b[0m: module 'matplotlib' has no attribute 'imshow'"
     ]
    }
   ],
   "source": [
    "import matplotlib as plt\n",
    "plt.imshow"
   ]
  },
  {
   "cell_type": "code",
   "execution_count": 5,
   "metadata": {},
   "outputs": [],
   "source": [
    "register(\n",
    "    id='zeppelin-v2',\n",
    "    entry_point=__name__ +':ZeppelinEnv',\n",
    "    max_episode_steps=200,\n",
    "    reward_threshold=25.0,\n",
    ")\n"
   ]
  },
  {
   "cell_type": "code",
   "execution_count": null,
   "metadata": {},
   "outputs": [],
   "source": []
  }
 ],
 "metadata": {
  "kernelspec": {
   "display_name": "Python 3",
   "language": "python",
   "name": "python3"
  },
  "language_info": {
   "codemirror_mode": {
    "name": "ipython",
    "version": 3
   },
   "file_extension": ".py",
   "mimetype": "text/x-python",
   "name": "python",
   "nbconvert_exporter": "python",
   "pygments_lexer": "ipython3",
   "version": "3.5.2"
  }
 },
 "nbformat": 4,
 "nbformat_minor": 2
}
